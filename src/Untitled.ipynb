{
 "cells": [
  {
   "cell_type": "code",
   "execution_count": 6,
   "metadata": {},
   "outputs": [
    {
     "name": "stdout",
     "output_type": "stream",
     "text": [
      "Index(['BOROUGH', 'NEIGHBORHOOD', 'BUILDING CLASS CATEGORY',\n",
      "       'TAX CLASS AT PRESENT', 'BLOCK', 'LOT', 'EASE-MENT',\n",
      "       'BUILDING CLASS AT PRESENT', 'ADDRESS', 'APARTMENT NUMBER', 'ZIP CODE',\n",
      "       'RESIDENTIAL UNITS', 'COMMERCIAL UNITS', 'TOTAL UNITS',\n",
      "       'LAND SQUARE FEET', 'GROSS SQUARE FEET', 'YEAR BUILT',\n",
      "       'TAX CLASS AT TIME OF SALE', 'BUILDING CLASS AT TIME OF SALE',\n",
      "       ' SALE PRICE ', 'SALE DATE'],\n",
      "      dtype='object')\n"
     ]
    }
   ],
   "source": [
    "import pandas as pd \n",
    "\n",
    "data = pd.read_csv('../data/raw/rollingsales_manhattan.csv', skiprows=4, skip_blank_lines=True) \n",
    "data.dropna(how=\"all\", inplace=True)\n",
    "\n",
    "data_frame = data.replace(',', '', regex=True)\n",
    "\n",
    "data_frame = pd.DataFrame(data)\n",
    "\n",
    "\n",
    "print(data_frame.columns)"
   ]
  },
  {
   "cell_type": "code",
   "execution_count": 8,
   "metadata": {},
   "outputs": [
    {
     "name": "stdout",
     "output_type": "stream",
     "text": [
      "   BOROUGH   NEIGHBORHOOD  BUILDING CLASS CATEGORY TAX CLASS AT PRESENT  \\\n",
      "0      1.0  ALPHABET CITY  01 ONE FAMILY DWELLINGS                    1   \n",
      "1      1.0  ALPHABET CITY  01 ONE FAMILY DWELLINGS                    1   \n",
      "2      1.0  ALPHABET CITY  02 TWO FAMILY DWELLINGS                    1   \n",
      "3      1.0  ALPHABET CITY  02 TWO FAMILY DWELLINGS                    1   \n",
      "4      1.0  ALPHABET CITY  02 TWO FAMILY DWELLINGS                    1   \n",
      "\n",
      "   BLOCK   LOT  EASE-MENT BUILDING CLASS AT PRESENT              ADDRESS  \\\n",
      "0  376.0  43.0        NaN                        S1  743 EAST 6TH STREET   \n",
      "1  400.0  19.0        NaN                        A4  526 EAST 5TH STREET   \n",
      "2  404.0   1.0        NaN                        B9         166 AVENUE A   \n",
      "3  404.0   1.0        NaN                        B9         166 AVENUE A   \n",
      "4  404.0   1.0        NaN                        B9         166 AVENUE A   \n",
      "\n",
      "  APARTMENT NUMBER  ...  RESIDENTIAL UNITS  COMMERCIAL UNITS  TOTAL UNITS  \\\n",
      "0              NaN  ...                1.0               1.0          2.0   \n",
      "1              NaN  ...                1.0               0.0          1.0   \n",
      "2              NaN  ...                2.0               0.0          2.0   \n",
      "3              NaN  ...                2.0               0.0          2.0   \n",
      "4              NaN  ...                2.0               0.0          2.0   \n",
      "\n",
      "   LAND SQUARE FEET GROSS SQUARE FEET YEAR BUILT  TAX CLASS AT TIME OF SALE  \\\n",
      "0             2,090             3,680     1940.0                        1.0   \n",
      "1             1,883             5,200     1900.0                        1.0   \n",
      "2             1,510             4,520     1900.0                        1.0   \n",
      "3             1,510             4,520     1900.0                        1.0   \n",
      "4             1,510             4,520     1900.0                        1.0   \n",
      "\n",
      "   BUILDING CLASS AT TIME OF SALE  SALE PRICE  SALE DATE  \n",
      "0                              S1    3,200,000   7/24/19  \n",
      "1                              A4    6,100,000   12/3/18  \n",
      "2                              B9            0   7/22/19  \n",
      "3                              B9            0  11/29/18  \n",
      "4                              B9            0  11/29/18  \n",
      "\n",
      "[5 rows x 21 columns]\n",
      "       BOROUGH              NEIGHBORHOOD    BUILDING CLASS CATEGORY  \\\n",
      "17154      1.0  WASHINGTON HEIGHTS UPPER  31 COMMERCIAL VACANT LAND   \n",
      "17155      1.0  WASHINGTON HEIGHTS UPPER  31 COMMERCIAL VACANT LAND   \n",
      "17156      1.0  WASHINGTON HEIGHTS UPPER  31 COMMERCIAL VACANT LAND   \n",
      "17157      1.0  WASHINGTON HEIGHTS UPPER  31 COMMERCIAL VACANT LAND   \n",
      "17158      1.0  WASHINGTON HEIGHTS UPPER           44 CONDO PARKING   \n",
      "\n",
      "      TAX CLASS AT PRESENT   BLOCK     LOT  EASE-MENT  \\\n",
      "17154                    4  2174.0    97.0        NaN   \n",
      "17155                    4  2179.0   153.0        NaN   \n",
      "17156                    4  2179.0   154.0        NaN   \n",
      "17157                    4  2179.0   155.0        NaN   \n",
      "17158                    4  2180.0  1222.0        NaN   \n",
      "\n",
      "      BUILDING CLASS AT PRESENT                ADDRESS APARTMENT NUMBER  ...  \\\n",
      "17154                        V1       N/A NAGLE AVENUE              NaN  ...   \n",
      "17155                        V1  203 CABRINI BOULEVARD              NaN  ...   \n",
      "17156                        V1  205 CABRINI BOULEVARD              NaN  ...   \n",
      "17157                        V1  207 CABRINI BOULEVARD              NaN  ...   \n",
      "17158                        RG    736 WEST 187 STREET            PRK22  ...   \n",
      "\n",
      "       RESIDENTIAL UNITS  COMMERCIAL UNITS  TOTAL UNITS  LAND SQUARE FEET  \\\n",
      "17154                NaN               NaN          NaN             2,800   \n",
      "17155                NaN               NaN          NaN             1,928   \n",
      "17156                NaN               NaN          NaN             1,775   \n",
      "17157                NaN               NaN          NaN             1,555   \n",
      "17158                NaN               NaN          NaN               NaN   \n",
      "\n",
      "      GROSS SQUARE FEET YEAR BUILT  TAX CLASS AT TIME OF SALE  \\\n",
      "17154               NaN        0.0                        4.0   \n",
      "17155               NaN        0.0                        4.0   \n",
      "17156               NaN        0.0                        4.0   \n",
      "17157               NaN        0.0                        4.0   \n",
      "17158               160     2003.0                        4.0   \n",
      "\n",
      "       BUILDING CLASS AT TIME OF SALE  SALE PRICE  SALE DATE  \n",
      "17154                              V1       15,000   6/12/19  \n",
      "17155                              V1    3,000,000    9/4/18  \n",
      "17156                              V1            0    9/4/18  \n",
      "17157                              V1            0    9/4/18  \n",
      "17158                              RG            0   9/13/18  \n",
      "\n",
      "[5 rows x 21 columns]\n"
     ]
    }
   ],
   "source": [
    "print(data_frame.head(5))\n",
    "print(data_frame.tail(5))"
   ]
  },
  {
   "cell_type": "code",
   "execution_count": null,
   "metadata": {},
   "outputs": [],
   "source": []
  }
 ],
 "metadata": {
  "kernelspec": {
   "display_name": "Python 3",
   "language": "python",
   "name": "python3"
  },
  "language_info": {
   "codemirror_mode": {
    "name": "ipython",
    "version": 3
   },
   "file_extension": ".py",
   "mimetype": "text/x-python",
   "name": "python",
   "nbconvert_exporter": "python",
   "pygments_lexer": "ipython3",
   "version": "3.8.5"
  }
 },
 "nbformat": 4,
 "nbformat_minor": 4
}

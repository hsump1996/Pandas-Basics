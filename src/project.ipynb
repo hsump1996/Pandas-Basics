{
 "cells": [
  {
   "cell_type": "markdown",
   "metadata": {},
   "source": [
    "## About the Data\n",
    "\n",
    "My data set was documented in the previous assignment. Wrote it again below for reference.\n",
    "\n",
    "\n",
    "1. Name / Title: NBA player stats per game for season 2019-2020\n",
    "2. Link to Data: https://zenodo.org/record/3744154#.YDDQTc8zbzc\n",
    "3. Source / Origin: \n",
    "\t* Author or Creator: Alejandro Santamarta Martinez\n",
    "\t* Publication Date: April 8, 2020\n",
    "\t* Publisher: Zenodo\n",
    "\t* Version or Data Accessed: Version 1 Apr 8, 2020\n",
    "\n",
    "4. License: Creative Commons\n",
    "5. Can You Use this Data Set for Your Intended Use Case? \n",
    "Yes, this data set contains all the data I need to answer my research questions\n",
    "\n",
    "## Format and Samples\n",
    "\n",
    "### Overview\n",
    "\n",
    "Format: CSV File\n",
    "Size: 4 MB\n",
    "Number of Records: 20502 Rows\n",
    "\n",
    "### Sample of Data\n",
    "\n",
    "TODO show a few lines of data from the actual file.  ⚠️ Use \"regular\" Python to do this in this code block.  Assuming that jupyter-lab was started in your root directory: with open('../data/raw/example-data.csv', 'r')\n",
    "\n",
    "import csv\n",
    "with open('../data/raw/nba_2020_data.csv', 'r') as csv_file:\n",
    "    csv_reader = csv.reader(csv_file, delimiter=',')\n",
    "    for index, line in enumerate(csv_reader):\n",
    "        if index == 3:\n",
    "            break\n",
    "        else:\n",
    "            print(line)\n",
    "\n",
    "### Fields or Column Headers\n",
    "\n",
    "* Field/Column 1: date (data)\n",
    "* Field/Column 2: team (string)\n",
    "* Field/Column 3: against (string)\n",
    "* Field/Column 4: local (boolean)\n",
    "* Field/Column 5: team_score (int)\n",
    "* Field/Column 6: rival_score (int)\n",
    "* Field/Column 7: result (string)\n",
    "* Field/Column 8: player \n",
    "* Field/Column 9: mp (string)\n",
    "* Field/Column 10: fg (int)\n",
    "* Field/Column 11: fga (int)\n",
    "* Field/Column 12: fg_pct (float)\n",
    "* Field/Column 13: fg3 (int)\n",
    "* Field/Column 14: fg3a (int)\n",
    "* Field/Column 15: fg3_pct (float)\n",
    "* Field/Column 16: ft (int)\n",
    "* Field/Column 17: fta (int)\n",
    "* Field/Column 18: ft_pct (float)\n",
    "* Field/Column 19: orb (int)\n",
    "* Field/Column 20: drb (int)\n",
    "* Field/Column 21: trb (int)\n",
    "* Field/Column 22: ast (int)\n",
    "* Field/Column 23: stl (int)\n",
    "* Field/Column 24: blk (int)\n",
    "* Field/Column 25: tov (int)\n",
    "* Field/Column 26: pf (int)\n",
    "* Field/Column 27: pts (int)\n",
    "* Field/Column 28: plus_minus (int)\n",
    "* Field/Column 29: ts_pct (float)\n",
    "* Field/Column 30: efg_pct (float)\n",
    "* Field/Column 31: fg3a_per_fga_pct (float)\n",
    "* Field/Column 32: fta_per_fga_pct (float)\n",
    "* Field/Column 33: orb_pct (float)\n",
    "* Field/Column 34: drb_pct (float)\n",
    "* Field/Column 35: trb_pct (float)\n",
    "* Field/Column 36: ast_pct (float)\n",
    "* Field/Column 37: stl_pct (float)\n",
    "* Field/Column 38: blk_pct (float)\n",
    "* Field/Column 39: tov_pct (float)\n",
    "* Field/Column 40: usg_pct (float)\n",
    "* Field/Column 41: off_rtg (int)\n",
    "* Field/Column 42: def_rtg (int)\n",
    "* Field/Column 43: bpm (float)"
   ]
  },
  {
   "cell_type": "markdown",
   "metadata": {},
   "source": [
    "## 2. Retrieve the data, create a DataFrame"
   ]
  },
  {
   "cell_type": "code",
   "execution_count": null,
   "metadata": {},
   "outputs": [],
   "source": [
    "import pandas as pd \n",
    "data = pd.read_csv('../data/raw/nba_2020_data.csv') \n",
    "print(data.head())"
   ]
  },
  {
   "cell_type": "markdown",
   "metadata": {},
   "source": [
    "## 3. Using the Data\n",
    "\n",
    "Goal: Clean it up for further analysis later and show summary statistics for free throw and 3 point percentage"
   ]
  },
  {
   "cell_type": "markdown",
   "metadata": {},
   "source": [
    "## Type conversion"
   ]
  },
  {
   "cell_type": "code",
   "execution_count": null,
   "metadata": {},
   "outputs": [],
   "source": [
    "data['date'] = pd.to_datetime(data['date'])"
   ]
  },
  {
   "cell_type": "markdown",
   "metadata": {},
   "source": [
    "This code is basically converting the data type of the date colulmn to datetime format."
   ]
  },
  {
   "cell_type": "markdown",
   "metadata": {},
   "source": [
    "## Transform a column"
   ]
  },
  {
   "cell_type": "code",
   "execution_count": null,
   "metadata": {},
   "outputs": [],
   "source": [
    "del data['orb']\n",
    "del data['drb']\n",
    "del data['trb']\n",
    "del data['ast']\n",
    "del data['stl']\n",
    "del data['blk']\n",
    "del data['tov']\n",
    "del data['pf']\n",
    "del data['orb_pct']\n",
    "del data['drb_pct']\n",
    "del data['trb_pct']\n",
    "del data['ast_pct']\n",
    "del data['stl_pct']\n",
    "del data['blk_pct']\n",
    "del data['bpm']\n",
    "\n",
    "data.rename(columns={'fg3_pct':'three_point_pct'}, inplace=True)\n",
    "data.rename(columns={'ft_pct':'free_throw_pct'}, inplace=True)\n",
    "print(data.info(verbose=True))"
   ]
  },
  {
   "cell_type": "markdown",
   "metadata": {},
   "source": [
    "This code is removing unnecessary columns. The deleted columns were not needed for my analysis in the previous homework. Furthermore, it will be unnecessary for future analysis."
   ]
  },
  {
   "cell_type": "markdown",
   "metadata": {},
   "source": [
    "## Calculate summary statistics"
   ]
  },
  {
   "cell_type": "code",
   "execution_count": 12,
   "metadata": {},
   "outputs": [
    {
     "name": "stdout",
     "output_type": "stream",
     "text": [
      "      free_throw_pct                                               \n",
      "               count      mean       std  min  25%    50%  75%  max\n",
      "local                                                              \n",
      "False         5804.0  0.756918  0.289178  0.0  0.5  0.833  1.0  1.0\n",
      "True          5874.0  0.758147  0.285212  0.0  0.5  0.833  1.0  1.0\n",
      "      three_point_pct                                               \n",
      "                count      mean       std  min  25%    50%  75%  max\n",
      "local                                                               \n",
      "False          8077.0  0.320931  0.285293  0.0  0.0  0.333  0.5  1.0\n",
      "True           8064.0  0.329682  0.292215  0.0  0.0  0.333  0.5  1.0\n"
     ]
    }
   ],
   "source": [
    "print(data.groupby(['local'])[['free_throw_pct']].describe())\n",
    "print(data.groupby(['local'])[['three_point_pct']].describe())"
   ]
  },
  {
   "cell_type": "markdown",
   "metadata": {},
   "source": [
    "The codes above computes the summary statistics for home and away games of all nba teams. This will be useful when I compare the results with a specific team."
   ]
  },
  {
   "cell_type": "markdown",
   "metadata": {},
   "source": [
    "## Filling in missing values\n"
   ]
  },
  {
   "cell_type": "code",
   "execution_count": null,
   "metadata": {},
   "outputs": [],
   "source": [
    "data['free_throw_pct'] = data['free_throw_pct'].fillna(0)\n",
    "data['three_point_pct'] = data['three_point_pct'].fillna(0)"
   ]
  },
  {
   "cell_type": "markdown",
   "metadata": {},
   "source": [
    "There were some columns that had missing values. The code above fills in those missing values with 0."
   ]
  }
 ],
 "metadata": {
  "kernelspec": {
   "display_name": "Python 3",
   "language": "python",
   "name": "python3"
  },
  "language_info": {
   "codemirror_mode": {
    "name": "ipython",
    "version": 3
   },
   "file_extension": ".py",
   "mimetype": "text/x-python",
   "name": "python",
   "nbconvert_exporter": "python",
   "pygments_lexer": "ipython3",
   "version": "3.8.5"
  }
 },
 "nbformat": 4,
 "nbformat_minor": 4
}

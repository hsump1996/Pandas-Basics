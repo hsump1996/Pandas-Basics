{
 "cells": [
  {
   "cell_type": "markdown",
   "metadata": {},
   "source": [
    "## 1. Import rollingsales_manhattan.csv as a DataFrame"
   ]
  },
  {
   "cell_type": "code",
   "execution_count": 1,
   "metadata": {},
   "outputs": [
    {
     "name": "stdout",
     "output_type": "stream",
     "text": [
      "   BOROUGH   NEIGHBORHOOD  BUILDING CLASS CATEGORY TAX CLASS AT PRESENT  \\\n",
      "0      1.0  ALPHABET CITY  01 ONE FAMILY DWELLINGS                    1   \n",
      "1      1.0  ALPHABET CITY  01 ONE FAMILY DWELLINGS                    1   \n",
      "2      1.0  ALPHABET CITY  02 TWO FAMILY DWELLINGS                    1   \n",
      "3      1.0  ALPHABET CITY  02 TWO FAMILY DWELLINGS                    1   \n",
      "4      1.0  ALPHABET CITY  02 TWO FAMILY DWELLINGS                    1   \n",
      "\n",
      "   BLOCK   LOT  EASE-MENT BUILDING CLASS AT PRESENT              ADDRESS  \\\n",
      "0  376.0  43.0        NaN                        S1  743 EAST 6TH STREET   \n",
      "1  400.0  19.0        NaN                        A4  526 EAST 5TH STREET   \n",
      "2  404.0   1.0        NaN                        B9         166 AVENUE A   \n",
      "3  404.0   1.0        NaN                        B9         166 AVENUE A   \n",
      "4  404.0   1.0        NaN                        B9         166 AVENUE A   \n",
      "\n",
      "  APARTMENT NUMBER  ...  RESIDENTIAL UNITS  COMMERCIAL UNITS  TOTAL UNITS  \\\n",
      "0              NaN  ...                1.0               1.0          2.0   \n",
      "1              NaN  ...                1.0               0.0          1.0   \n",
      "2              NaN  ...                2.0               0.0          2.0   \n",
      "3              NaN  ...                2.0               0.0          2.0   \n",
      "4              NaN  ...                2.0               0.0          2.0   \n",
      "\n",
      "   LAND SQUARE FEET GROSS SQUARE FEET YEAR BUILT  TAX CLASS AT TIME OF SALE  \\\n",
      "0             2,090             3,680     1940.0                        1.0   \n",
      "1             1,883             5,200     1900.0                        1.0   \n",
      "2             1,510             4,520     1900.0                        1.0   \n",
      "3             1,510             4,520     1900.0                        1.0   \n",
      "4             1,510             4,520     1900.0                        1.0   \n",
      "\n",
      "   BUILDING CLASS AT TIME OF SALE  SALE PRICE  SALE DATE  \n",
      "0                              S1    3,200,000   7/24/19  \n",
      "1                              A4    6,100,000   12/3/18  \n",
      "2                              B9            0   7/22/19  \n",
      "3                              B9            0  11/29/18  \n",
      "4                              B9            0  11/29/18  \n",
      "\n",
      "[5 rows x 21 columns]\n"
     ]
    }
   ],
   "source": [
    "import pandas as pd \n",
    "\n",
    "data = pd.read_csv('../data/raw/rollingsales_manhattan.csv', skiprows=4, skip_blank_lines=True) \n",
    "data.dropna(how=\"all\", inplace=True)\n",
    "\n",
    "data_frame = data.replace(',', '', regex=True)\n",
    "\n",
    "data_frame = pd.DataFrame(data)\n",
    "\n",
    "\n",
    "print(data_frame.head())"
   ]
  },
  {
   "cell_type": "markdown",
   "metadata": {},
   "source": [
    "In order to make the initial import usable, I inserted keyward argument. One of the major issues was there were unnecessary rows at the very beginning, which was not part of the data. To avoid reading those lines, I used the skiprows argument so that panda skips those lines. Furthermore, I inserted another argument, which is skip_blank_lines. This argument made the reading process to stop once it starts to see blank rows."
   ]
  },
  {
   "cell_type": "markdown",
   "metadata": {},
   "source": [
    "## 2. Display columns and row samples"
   ]
  },
  {
   "cell_type": "code",
   "execution_count": null,
   "metadata": {},
   "outputs": [],
   "source": [
    "print(data_frame.columns.tolist())"
   ]
  },
  {
   "cell_type": "code",
   "execution_count": null,
   "metadata": {},
   "outputs": [],
   "source": [
    "first_five_rows = data_frame.head(5)\n",
    "print(first_five_rows)"
   ]
  },
  {
   "cell_type": "code",
   "execution_count": null,
   "metadata": {},
   "outputs": [],
   "source": [
    "shuffled_rows = data_frame.sample(frac=1)\n",
    "print(shuffled_rows.head(5))"
   ]
  },
  {
   "cell_type": "code",
   "execution_count": null,
   "metadata": {},
   "outputs": [],
   "source": [
    "last_five_rows= data_frame.tail(5)\n",
    "print(last_five_rows)"
   ]
  },
  {
   "cell_type": "markdown",
   "metadata": {},
   "source": [
    "## 3. Describe the rows and data types"
   ]
  },
  {
   "cell_type": "code",
   "execution_count": null,
   "metadata": {},
   "outputs": [],
   "source": [
    "print(data_frame.info(verbose=True))"
   ]
  },
  {
   "cell_type": "markdown",
   "metadata": {},
   "source": [
    "list out the columns that look like they have the \"wrong\" (or too wide) type\n",
    "\n",
    "LAND SQUARE FEET - should be (float64)\n",
    "GROSS SQUARE FEET - should be (float64)\n",
    "SALE PRICE - should be (int64)\n",
    "\n",
    "On the below cell, I have written any data transformations or cleaning, which I thought were needed."
   ]
  },
  {
   "cell_type": "code",
   "execution_count": 3,
   "metadata": {},
   "outputs": [
    {
     "name": "stdout",
     "output_type": "stream",
     "text": [
      "<class 'pandas.core.frame.DataFrame'>\n",
      "Int64Index: 17159 entries, 0 to 17158\n",
      "Data columns (total 21 columns):\n",
      " #   Column                          Non-Null Count  Dtype  \n",
      "---  ------                          --------------  -----  \n",
      " 0   BOROUGH                         17159 non-null  float64\n",
      " 1   NEIGHBORHOOD                    17159 non-null  object \n",
      " 2   BUILDING CLASS CATEGORY         17159 non-null  object \n",
      " 3   TAX CLASS AT PRESENT            17088 non-null  object \n",
      " 4   BLOCK                           17159 non-null  float64\n",
      " 5   LOT                             17159 non-null  float64\n",
      " 6   EASE-MENT                       0 non-null      float64\n",
      " 7   BUILDING CLASS AT PRESENT       17088 non-null  object \n",
      " 8   ADDRESS                         17159 non-null  object \n",
      " 9   APARTMENT NUMBER                8213 non-null   object \n",
      " 10  ZIP CODE                        17088 non-null  float64\n",
      " 11  RESIDENTIAL UNITS               1783 non-null   float64\n",
      " 12  COMMERCIAL UNITS                1783 non-null   float64\n",
      " 13  TOTAL UNITS                     1783 non-null   float64\n",
      " 14  LAND SQUARE FEET                1903 non-null   float64\n",
      " 15  GROSS SQUARE FEET               17159 non-null  int64  \n",
      " 16  YEAR BUILT                      17088 non-null  float64\n",
      " 17  TAX CLASS AT TIME OF SALE       17159 non-null  float64\n",
      " 18  BUILDING CLASS AT TIME OF SALE  17159 non-null  object \n",
      " 19   SALE PRICE                     17159 non-null  int64  \n",
      " 20  SALE DATE                       17159 non-null  object \n",
      "dtypes: float64(11), int64(2), object(8)\n",
      "memory usage: 2.9+ MB\n",
      "None\n"
     ]
    }
   ],
   "source": [
    "data_frame = data_frame.replace(',','', regex=True)\n",
    "data_frame[\" SALE PRICE \"] = pd.to_numeric(data_frame[\" SALE PRICE \"])\n",
    "data_frame[\"LAND SQUARE FEET\"] = pd.to_numeric(data_frame[\"LAND SQUARE FEET\"])\n",
    "data_frame['GROSS SQUARE FEET'] = data_frame['GROSS SQUARE FEET'].fillna(0)\n",
    "data_frame = data_frame.astype({\"GROSS SQUARE FEET\": int})\n",
    "print(data_frame.info(verbose=True))"
   ]
  },
  {
   "cell_type": "markdown",
   "metadata": {},
   "source": [
    "## 4. Initial column (or row) clean-up"
   ]
  },
  {
   "cell_type": "code",
   "execution_count": 4,
   "metadata": {},
   "outputs": [
    {
     "name": "stdout",
     "output_type": "stream",
     "text": [
      "<class 'pandas.core.frame.DataFrame'>\n",
      "Int64Index: 17159 entries, 0 to 17158\n",
      "Data columns (total 21 columns):\n",
      " #   Column                          Non-Null Count  Dtype  \n",
      "---  ------                          --------------  -----  \n",
      " 0   BOROUGH                         17159 non-null  float64\n",
      " 1   NEIGHBORHOOD                    17159 non-null  object \n",
      " 2   BUILDING CLASS CATEGORY         17159 non-null  object \n",
      " 3   TAX CLASS AT PRESENT            17088 non-null  object \n",
      " 4   BLOCK                           17159 non-null  float64\n",
      " 5   LOT                             17159 non-null  float64\n",
      " 6   EASE-MENT                       0 non-null      float64\n",
      " 7   BUILDING CLASS AT PRESENT       17088 non-null  object \n",
      " 8   ADDRESS                         17159 non-null  object \n",
      " 9   APARTMENT NUMBER                8213 non-null   object \n",
      " 10  ZIP CODE                        17088 non-null  float64\n",
      " 11  RESIDENTIAL UNITS               1783 non-null   float64\n",
      " 12  COMMERCIAL UNITS                1783 non-null   float64\n",
      " 13  TOTAL UNITS                     1783 non-null   float64\n",
      " 14  LAND SQUARE FEET                1903 non-null   float64\n",
      " 15  GROSS SQUARE FEET               17159 non-null  int64  \n",
      " 16  YEAR BUILT                      17088 non-null  float64\n",
      " 17  TAX CLASS AT TIME OF SALE       17159 non-null  float64\n",
      " 18  BUILDING CLASS AT TIME OF SALE  17159 non-null  object \n",
      " 19   SALE PRICE                     17159 non-null  int64  \n",
      " 20  SALE DATE                       17159 non-null  object \n",
      "dtypes: float64(11), int64(2), object(8)\n",
      "memory usage: 2.9+ MB\n",
      "None\n",
      "[1. 1. 1. ... 1. 1. 1.]\n"
     ]
    }
   ],
   "source": [
    "print(data_frame.info(verbose=True))\n",
    "print(data_frame['BOROUGH'].values)"
   ]
  },
  {
   "cell_type": "code",
   "execution_count": null,
   "metadata": {},
   "outputs": [],
   "source": [
    "del data_frame['BOROUGH']\n",
    "del data_frame['EASE-MENT']"
   ]
  },
  {
   "cell_type": "markdown",
   "metadata": {},
   "source": [
    "The intended use of column 'BOROUGH' was to show name of the borough in which the property is located. However, the only value this column contains is 1. Thus, I thought that this column was unnecessary. \n",
    "\n",
    "Another column I thought unnecessary was column 'EASE-MENT.' This column does not contain any value in all the rows. Thus, this column would be unnecessary."
   ]
  },
  {
   "cell_type": "code",
   "execution_count": null,
   "metadata": {},
   "outputs": [],
   "source": [
    "data_frame.rename(columns={'LOT':'PROPERTY UNIQUE LOCATION'}, inplace=True)"
   ]
  },
  {
   "cell_type": "markdown",
   "metadata": {},
   "source": [
    "I thought that the Column 'LOT' should be renamed to more self explanatory name because it was very unclear what the column is representing by solely looking at the column name."
   ]
  },
  {
   "cell_type": "markdown",
   "metadata": {},
   "source": [
    "## 5. Determine the top three neighborhoods that had the most properties sold (no need to calculate units, the actual number of properties is adequate)"
   ]
  },
  {
   "cell_type": "code",
   "execution_count": 5,
   "metadata": {},
   "outputs": [
    {
     "name": "stdout",
     "output_type": "stream",
     "text": [
      "UPPER EAST SIDE (59-79)    1696\n",
      "UPPER EAST SIDE (79-96)    1629\n",
      "UPPER WEST SIDE (59-79)    1499\n",
      "Name: NEIGHBORHOOD, dtype: int64\n"
     ]
    }
   ],
   "source": [
    "print(data_frame.NEIGHBORHOOD.value_counts().head(3))"
   ]
  },
  {
   "cell_type": "markdown",
   "metadata": {},
   "source": [
    "In order to determine the top three neighborhoods that had the most properties sold, I used the value_counts method. Value_counts method basically returns series containing counts of unique or distinct values in descending order. By using the head method at the end, I only extracted top 3 neighborhoods. "
   ]
  },
  {
   "cell_type": "markdown",
   "metadata": {},
   "source": [
    "## 6. Describe the kind of buildings that were sold"
   ]
  },
  {
   "cell_type": "code",
   "execution_count": 55,
   "metadata": {},
   "outputs": [
    {
     "data": {
      "image/png": "[encoded data removed]",
      "text/plain": [
       "<Figure size 432x288 with 1 Axes>"
      ]
     },
     "metadata": {
      "needs_background": "light"
     },
     "output_type": "display_data"
    }
   ],
   "source": [
    "building_class = data_frame['BUILDING CLASS AT TIME OF SALE'].str[:1].value_counts()\n",
    "\n",
    "count_of_R = building_class['R']\n",
    "count_of_A = building_class['A']\n",
    "count_of_O = building_class['O']\n",
    "\n",
    "new_series_without_rao   = building_class.drop(['R', 'A', 'O']);\n",
    "count_of_rest = new_series_without_rao.sum()\n",
    "\n",
    "df = pd.DataFrame({'Kind of Buildings':['Condominiums', 'One Family Homes', 'Office Buildings', 'Rest'], 'count':[count_of_R, count_of_A, count_of_O, count_of_rest]})\n",
    "ax = df.plot.bar(x='Kind of Buildings', y='count', rot=0,  alpha=1.0)"
   ]
  },
  {
   "cell_type": "markdown",
   "metadata": {},
   "source": [
    "To visualize the kinds of buildings that were wold, several steps had to be taken. First, I extracted the key column 'BUILDING CLASS AT TIME OF SALE' as a series using slice. Since the first character of the String value classified the value, slicing was the key method to extract the necessary information. This column contained all the necessary information I needed. For example, values that contained the letter R were associated with condominiums. Values that contained the letter A were associated with one family homes. And finally, values that contained the letter O were asssociated with office buildings.\n",
    "\n",
    "Then I dropped the three indices(R, A, O) from the series. I calculated the sum of all the values in the series, which would ultimately give the count of all the indices excluding R, A, and O. I stored this number on a variable called count_of_rest. Afterwards, I used these datas to plot the counts as a bar graph."
   ]
  },
  {
   "cell_type": "markdown",
   "metadata": {},
   "source": [
    "## 7. Calculate summary statistics for the prices of properties sold for all of Manhattan and for a couple of select neighborhoods"
   ]
  },
  {
   "cell_type": "code",
   "execution_count": 20,
   "metadata": {},
   "outputs": [
    {
     "name": "stdout",
     "output_type": "stream",
     "text": [
      "3430214.7107640305\n",
      "875000.0\n",
      "2155000000\n",
      "0\n",
      "300000.0\n",
      "2100000.0\n",
      "                SALE PRICE \n",
      "NEIGHBORHOOD               \n",
      "ALPHABET CITY  2.205347e+06\n",
      "CHELSEA        5.571827e+06\n",
      "                SALE PRICE \n",
      "NEIGHBORHOOD               \n",
      "ALPHABET CITY      599000.0\n",
      "CHELSEA           1035000.0\n",
      "                SALE PRICE \n",
      "NEIGHBORHOOD               \n",
      "ALPHABET CITY      82000000\n",
      "CHELSEA           880000000\n",
      "                SALE PRICE \n",
      "NEIGHBORHOOD               \n",
      "ALPHABET CITY             0\n",
      "CHELSEA                   0\n",
      "                SALE PRICE \n",
      "NEIGHBORHOOD               \n",
      "ALPHABET CITY        2500.0\n",
      "CHELSEA            515000.0\n",
      "                SALE PRICE \n",
      "NEIGHBORHOOD               \n",
      "ALPHABET CITY     1150000.0\n",
      "CHELSEA           2500000.0\n"
     ]
    }
   ],
   "source": [
    "print(data_frame[\" SALE PRICE \"].mean())\n",
    "print(data_frame[\" SALE PRICE \"].median())\n",
    "print(data_frame[\" SALE PRICE \"].max())\n",
    "print(data_frame[\" SALE PRICE \"].min())\n",
    "print(data_frame[\" SALE PRICE \"].quantile(0.25))\n",
    "print(data_frame[\" SALE PRICE \"].quantile(0.75))\n",
    "\n",
    "mean_top_two = data_frame.groupby(['NEIGHBORHOOD'])[[' SALE PRICE ']].mean().head(2)\n",
    "print(mean_top_two)\n",
    "\n",
    "median_top_two = data_frame.groupby(['NEIGHBORHOOD'])[[' SALE PRICE ']].median().head(2)\n",
    "print(median_top_two)\n",
    "\n",
    "max_top_two = data_frame.groupby(['NEIGHBORHOOD'])[[' SALE PRICE ']].max().head(2)\n",
    "print(max_top_two)\n",
    "\n",
    "min_top_two = data_frame.groupby(['NEIGHBORHOOD'])[[' SALE PRICE ']].min().head(2)\n",
    "print(min_top_two)\n",
    "\n",
    "quantile_twenty_five_top_two = data_frame.groupby(['NEIGHBORHOOD'])[[' SALE PRICE ']].quantile(0.25).head(2)\n",
    "print(quantile_twenty_five_top_two)\n",
    "\n",
    "quantile_seventy_five_top_two = data_frame.groupby(['NEIGHBORHOOD'])[[' SALE PRICE ']].quantile(0.75).head(2)\n",
    "print(quantile_seventy_five_top_two)"
   ]
  },
  {
   "cell_type": "markdown",
   "metadata": {},
   "source": [
    "Average price of properties sold for all of Manhattan: 3,430,214\n",
    "Median price of properties sold for all of Manhattan: 875,000\n",
    "Max price of properties sold for all of Manhattan: 2,155,000,000\n",
    "Min price of properties sold for all of Manhattan: 0\n",
    "25th Percentile price of properties sold for all of Manhattan: 300,000\n",
    "75th Percentile price of properties sold for all of Manhattan: 2,100,000\n",
    "\n",
    "Average price of properties sold for ALPHABET CITY: 2,205,347\n",
    "Median price of properties sold for ALPHABET CITY: 599,000\n",
    "Max price of properties sold for ALPHABET CITY: 82,000,000\n",
    "Min price of properties sold for ALPHABET CITY: 0\n",
    "25th Percentile price of properties sold for ALPHABET CITY: 2,500\n",
    "75th Percentile price of properties sold for ALPHABET CITY: 1,150,000\n",
    "\n",
    "Average price of properties sold for CHELSEA: 5,571,827\n",
    "Median price of properties sold for CHELSEA: 1,035,000\n",
    "Max price of properties sold for CHELSEA: 880,000,000\n",
    "Min price of properties sold for CHELSEA: 0\n",
    "25th Percentile price of properties sold for CHELSEA: 515,000\n",
    "75th Percentile price of properties sold for CHELSEA: 2,500,000"
   ]
  },
  {
   "cell_type": "markdown",
   "metadata": {},
   "source": [
    "To calculate the mean, median, max, min, 25th percentile, and 75th percentile value of properties sold for all of Manhattan, I used the pandas built-in functions .mean, .median, .max, .min, .quantile on the \" Sale Price \" column. This calculation returned corresponding values. \n",
    "\n",
    "To calculate the mean median, max, min, 25th percentile, and 75th percentile value of two specific neighbors, I grouped the Data frame by the \"NEIGHBORHOOD\" column. Then, I computed the required values using the built-in methods. A key aspect of this process is that I applied the built-in methods on the \"SALE PRICE\" column, which is grouped by \"NEIGHBORHOOD\". This way, it caculates the statistics based on neighborhoods. Finally, I used the head() method to only show statistics for two neighborhoods."
   ]
  },
  {
   "cell_type": "markdown",
   "metadata": {},
   "source": [
    "## 8. Bin the prices of properties sold"
   ]
  },
  {
   "cell_type": "code",
   "execution_count": 7,
   "metadata": {},
   "outputs": [
    {
     "name": "stdout",
     "output_type": "stream",
     "text": [
      "bin5    4847\n",
      "bin4    4253\n",
      "bin1    3880\n",
      "bin3    2689\n",
      "bin2    1490\n",
      "Name:  SALE PRICE , dtype: int64\n"
     ]
    }
   ],
   "source": [
    "cut_grades = ['bin1', 'bin2', 'bin3', 'bin4', 'bin5']\n",
    "cut_bins = [-1, 20000, 480000, 800000, 1800000, 2155000000]\n",
    "dd = pd.cut(data_frame[' SALE PRICE '], bins=cut_bins, labels = cut_grades)\n",
    "print(pd.value_counts(dd))"
   ]
  },
  {
   "cell_type": "markdown",
   "metadata": {},
   "source": [
    "Some unusual aspects about the dataset's prices were that most of the data were skewed towards the opposite ends. There wasn't enough median values, which could possibliy affect the average of the dataset's prices.\n",
    "\n",
    "Since there were lots of zeros from the beginning to the 25th percentile, this could possibly lower the average.\n",
    "\n",
    "In order to fix this issue, we would need more median values. Furthermore, we could skip the rows where the sale price is zero. In fact, sale price of zero is impossible in the real world."
   ]
  },
  {
   "cell_type": "code",
   "execution_count": 17,
   "metadata": {},
   "outputs": [
    {
     "data": {
      "image/png": "[encoded data removed]",
      "text/plain": [
       "<Figure size 432x288 with 1 Axes>"
      ]
     },
     "metadata": {
      "needs_background": "light"
     },
     "output_type": "display_data"
    }
   ],
   "source": [
    "import matplotlib.pyplot as plt\n",
    "graph = dd.value_counts(sort=False).plot.bar(rot=0, color=\"r\", figsize=(6,4))\n",
    "plt.show()"
   ]
  },
  {
   "cell_type": "markdown",
   "metadata": {},
   "source": [
    "## 9. Create a visualization the shows the relationship (if any) between the price sold and the number of square footage of all the areas of a property within a building or a structure"
   ]
  },
  {
   "cell_type": "code",
   "execution_count": 9,
   "metadata": {},
   "outputs": [
    {
     "name": "stdout",
     "output_type": "stream",
     "text": [
      "0.5344030166878669\n"
     ]
    }
   ],
   "source": [
    "column_1 = data_frame[\" SALE PRICE \"]\n",
    "column_2 = data_frame[\"GROSS SQUARE FEET\"]\n",
    "correlation = column_1.corr(column_2)\n",
    "print(correlation)"
   ]
  },
  {
   "cell_type": "code",
   "execution_count": 14,
   "metadata": {},
   "outputs": [
    {
     "data": {
      "image/png": "[encoded data removed]",
      "text/plain": [
       "<Figure size 432x288 with 1 Axes>"
      ]
     },
     "metadata": {
      "needs_background": "light"
     },
     "output_type": "display_data"
    }
   ],
   "source": [
    "import matplotlib.pyplot as plt\n",
    "plt.scatter(column_1, column_2) \n",
    "plt.show()"
   ]
  },
  {
   "cell_type": "markdown",
   "metadata": {},
   "source": [
    "To determine whether there is any relationship between the sale price and the gross square feet, I decided to use the correlation method. Python contains the 'corr' method, which gives correlation between two lists. To experiment this process, I saved values of column \"SALE PRICE\" into column_1 and values of column \"GROSS SQUARE FEET\" into column_2. The result shows that the correlation between two variables is .5344. This indicates that the two variables have positive correlation. Positive correlation means that when one variable increases, the other variable increases. And finally, I used scatterplot to visualize the correlation between two variables."
   ]
  },
  {
   "cell_type": "markdown",
   "metadata": {},
   "source": [
    "## 10. which month did the least amount of sales occur"
   ]
  },
  {
   "cell_type": "code",
   "execution_count": 26,
   "metadata": {},
   "outputs": [
    {
     "name": "stdout",
     "output_type": "stream",
     "text": [
      "6     2059\n",
      "5     1667\n",
      "12    1546\n",
      "10    1539\n",
      "4     1463\n",
      "1     1438\n",
      "9     1359\n",
      "7     1343\n",
      "3     1327\n",
      "11    1260\n",
      "2     1215\n",
      "8      943\n",
      "Name: SALE DATE, dtype: int64\n"
     ]
    }
   ],
   "source": [
    "data_frame['SALE DATE'] = pd.to_datetime(data_frame['SALE DATE'])\n",
    "print(data_frame['SALE DATE'].dt.month.value_counts())"
   ]
  },
  {
   "cell_type": "markdown",
   "metadata": {},
   "source": [
    "To determine which month had the least amount of sales, I first converted the data type of column 'SALE DATE' to datetime. By doing this process, it will be much easier to extract month from the data object. Then, I used the .dt.month property of datetime object to extract only the month value from the 'SALE DATE' column. Finally, I used value_counts() method to obtain the occurrrences of each month. "
   ]
  },
  {
   "cell_type": "markdown",
   "metadata": {},
   "source": [
    "what can you conclude about when property sales reaches a lull?\n",
    "\n",
    "Looking at the overall trend, there isn't a clear time period that shows lull property sales with the exception of August. August is the only time of the year that clearly showed decrease in number of property saels. Another trend that can be observed is that property sales seem to go down during fall. The average number of property sales is lower than that of other seasons."
   ]
  }
 ],
 "metadata": {
  "kernelspec": {
   "display_name": "Python 3",
   "language": "python",
   "name": "python3"
  },
  "language_info": {
   "codemirror_mode": {
    "name": "ipython",
    "version": 3
   },
   "file_extension": ".py",
   "mimetype": "text/x-python",
   "name": "python",
   "nbconvert_exporter": "python",
   "pygments_lexer": "ipython3",
   "version": "3.8.5"
  }
 },
 "nbformat": 4,
 "nbformat_minor": 4
}
